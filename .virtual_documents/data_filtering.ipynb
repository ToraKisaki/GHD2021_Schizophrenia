import pandas as pd
import os
import numpy as np
#from mne.datasets.mtrf.mtrf import data_name


def read_file(file_path):
    """
    Reads a CSV file and returns a DataFrame with specific columns.

    Args:
        file_path (str): The path to the CSV file.

    Returns:
        pd.DataFrame: A DataFrame containing the specified columns.
    """

    # Check if the file exists
    if not os.path.isfile(file_path):
        raise FileNotFoundError(f"The file {file_path} does not exist.")

    # Read the CSV file
    df = pd.read_csv(file_path)

    # Select specific columns
    selected_columns = ['id', 'name', 'age']

    # Check if the selected columns exist in the DataFrame
    missing_columns = [col for col in selected_columns if col not in df.columns]
    if missing_columns:
        raise ValueError(f"The following columns are missing from the DataFrame: {missing_columns}")

    # Return the DataFrame with selected columns
    return df[selected_columns]


# Test the function with a sample CSV file
# Create a sample CSV file
sample_data = {
    'id': [1, 2, 3],
    'name': ['Alice', 'Bob', 'Charlie'],
    'age': [25, 30, 35],
    'city': ['New York', 'Los Angeles', 'Chicago']
}
df = pd.DataFrame(sample_data)
sample_file_path = 'sample.csv'
df.to_csv(sample_file_path, index=False)

# Read the file using the function
try:
    result_df = read_file(sample_file_path)
    print(result_df)
except Exception as e:
    print(f"Error: {e}")


# Clean up the sample file after testing
os.remove(sample_file_path)





# Read data from GHD2021_Schizophrenia/Schiz/
yld_df = pd.DataFrame()
daly_df = pd.DataFrame()
file_path = "./Schiz/"
for x in range(1, 10):
    file_name = file_path + f"IHME-GBD_2021_DATA-851501aa-{x}.csv"
    if not os.path.isfile(file_name):
        print(f"File not found: {file_name}")
        continue

    df = pd.read_csv(file_name)
    print(f"Reading file: {file_name}")
    print(f"Columns: {df.columns}")
    print(f"First few rows:\n{df.head()}")

    filtered_df = df[(df['measure_id'] == 3) & (df['metric_id'] == 1)]
    print(f"Filtered YLD rows: {filtered_df.shape[0]}")

    if not filtered_df.empty:
        yld_df = pd.concat([yld_df, filtered_df], ignore_index=True)

    filtered_df = df[(df['measure_id'] == 2) & (df['metric_id'] == 1)]
    print(f"Filtered DALY rows: {filtered_df.shape[0]}")

    if not filtered_df.empty:
        daly_df = pd.concat([daly_df, filtered_df], ignore_index=True)



if yld_df.empty:
    print("No data matched the filtering condition. The resulting DataFrame is empty.")
else:
    yld_df.to_csv("filtered_csv/YLDs.csv", index=False)
    print("YLDs.csv has been created successfully.")


if daly_df.empty:
    print("No data matched the filtering condition. The resulting DataFrame is empty.")
else:
    daly_df.to_csv("filtered_csv/DALYs.csv", index=False)
    print("DALYs.csv has been created successfully.")


#Release memory
del yld_df
del daly_df





# Read data from GHD2021_Schizophrenia/Schiz/
incidence6_df = pd.DataFrame()
prevalance5_df = pd.DataFrame()
file_path = "./Schiz/"
for x in range(1, 10):
    file_name = file_path + f"IHME-GBD_2021_DATA-851501aa-{x}.csv"
    if not os.path.isfile(file_name):
        print(f"File not found: {file_name}")
        continue

    df = pd.read_csv(file_name)
    print(f"Reading file: {file_name}")
    print(f"Columns: {df.columns}")
    print(f"First few rows:\n{df.head()}")

    filtered_df = df[(df['measure_id'] == 6) & (df['metric_id'] == 1)]
    print(f"Filtered Incidence rows: {filtered_df.shape[0]}")

    if not filtered_df.empty:
        incidence6_df = pd.concat([incidence6_df, filtered_df], ignore_index=True)

    filtered_df = df[(df['measure_id'] == 5) & (df['metric_id'] == 1)]
    print(f"Filtered Prevalance rows: {filtered_df.shape[0]}")

    if not filtered_df.empty:
        prevalance5_df = pd.concat([prevalance5_df, filtered_df], ignore_index=True)



if incidence6_df.empty:
    print("No data matched the filtering condition. The resulting DataFrame is empty.")
else:
    incidence6_df.to_csv("filtered_csv/Incidence.csv", index=False)
    print("Incidence.csv has been created successfully.")


if prevalance5_df.empty:
    print("No data matched the filtering condition. The resulting DataFrame is empty.")
else:
    prevalance5_df.to_csv("filtered_csv/Prevalence.csv", index=False)
    print("Prevalence.csv has been created successfully.")


# Release memory
del incidence6_df
del prevalance5_df





# Read data from GHD2021_Schizophrenia/Schiz/
temp_df = pd.DataFrame()
data_names = ["DALYs", "YLDs", "Incidence", "Prevalence"]

# Filter data by year
for name in data_names:

    file_name = F"filtered_csv/{name}.csv"
    directory_path = f'filtered_csv/{name}'

    if not os.path.exists(directory_path):
        # Create the directory
        os.makedirs(directory_path)

    df = pd.read_csv(file_name)
    print(f"Reading file: {file_name}")
    print(f"Columns: {df.columns}")
    print(f"First few rows:\n{df.head()}")

    for x in range(1990, 2022):

        temp_df = df[(df['year'] == x) & (df['metric_id'] == 1)]
        print(f"Filtered {name} rows: {temp_df.shape[0]}")

        if temp_df.empty:
            print("No data matched the filtering condition. The resulting DataFrame is empty.")
        else:
            temp_df.to_csv(f"filtered_csv/{name}/{name}_{x}.csv", index=False)
            print(f"{name}_{x}.csv has been created successfully.")



Middle SDI - 44639
High SDI   - 44635
Low SDI    - 44637
Low-middle SDI - 44636
High-middle SDI - 44634





# Read data from GHD2021_Schizophrenia/Schiz/
temp_df = pd.DataFrame()
data_names = ["DALYs", "YLDs", "Incidence", "Prevalence"]

# Filter data by year
for name in data_names:

    file_name = F"filtered_csv/{name}.csv"
    directory_path = f'filtered_csv/{name}'

    if not os.path.exists(directory_path):
        # Create the directory
        os.makedirs(directory_path)

    df = pd.read_csv(file_name)
    print(f"Reading file: {file_name}")
    print(f"Columns: {df.columns}")
    print(f"First few rows:\n{df.head()}")

    for x in range(1990, 2022):

        temp_df = df[(df['year'] == x) & (df['metric_id'] == 1) & (df['location_id']<40000)]
        print(f"Filtered {name} rows: {temp_df.shape[0]}")

        if temp_df.empty:
            print("No data matched the filtering condition. The resulting DataFrame is empty.")
        else:
            temp_df.to_csv(f"filtered_csv/{name}/{name}_countries_{x}.csv", index=False)
            print(f"{name}_countries_{x}.csv has been created successfully.")

        temp_df = df[(df['year'] == x) & (df['metric_id'] == 1) & (df['location_id'] > 40000)]
        print(f"Filtered {name} rows: {temp_df.shape[0]}")

        if temp_df.empty:
            print("No data matched the filtering condition. The resulting DataFrame is empty.")
        else:
            temp_df.to_csv(f"filtered_csv/{name}/{name}_SDI_{x}.csv", index=False)
            print(f"{name}_SDI_{x}.csv has been created successfully.")




