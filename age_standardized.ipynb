{
 "cells": [
  {
   "cell_type": "code",
   "id": "initial_id",
   "metadata": {
    "collapsed": true,
    "ExecuteTime": {
     "end_time": "2025-05-07T03:47:50.837653Z",
     "start_time": "2025-05-07T03:47:50.463475Z"
    }
   },
   "source": [
    "import pandas as pd\n",
    "import os\n",
    "import numpy as np\n",
    "#from mne.datasets.mtrf.mtrf import data_name"
   ],
   "outputs": [],
   "execution_count": 1
  },
  {
   "metadata": {
    "ExecuteTime": {
     "end_time": "2025-05-07T03:47:52.343074Z",
     "start_time": "2025-05-07T03:47:52.337251Z"
    }
   },
   "cell_type": "code",
   "source": [
    "def read_file(file_path):\n",
    "    \"\"\"\n",
    "    Reads a CSV file and returns a DataFrame with specific columns.\n",
    "\n",
    "    Args:\n",
    "        file_path (str): The path to the CSV file.\n",
    "\n",
    "    Returns:\n",
    "        pd.DataFrame: A DataFrame containing the specified columns.\n",
    "    \"\"\"\n",
    "\n",
    "    # Check if the file exists\n",
    "    if not os.path.isfile(file_path):\n",
    "        raise FileNotFoundError(f\"The file {file_path} does not exist.\")\n",
    "\n",
    "    # Read the CSV file\n",
    "    df = pd.read_csv(file_path)\n",
    "\n",
    "    # Select specific columns\n",
    "    selected_columns = ['id', 'name', 'age']\n",
    "\n",
    "    # Check if the selected columns exist in the DataFrame\n",
    "    missing_columns = [col for col in selected_columns if col not in df.columns]\n",
    "    if missing_columns:\n",
    "        raise ValueError(f\"The following columns are missing from the DataFrame: {missing_columns}\")\n",
    "\n",
    "    # Return the DataFrame with selected columns\n",
    "    return df[selected_columns]"
   ],
   "id": "52f9a574b12c9cc0",
   "outputs": [],
   "execution_count": 2
  },
  {
   "metadata": {
    "ExecuteTime": {
     "end_time": "2025-05-07T00:11:33.128514Z",
     "start_time": "2025-05-07T00:11:33.086383Z"
    }
   },
   "cell_type": "code",
   "source": [
    "# Test the function with a sample CSV file\n",
    "# Create a sample CSV file\n",
    "sample_data = {\n",
    "    'id': [1, 2, 3],\n",
    "    'name': ['Alice', 'Bob', 'Charlie'],\n",
    "    'age': [25, 30, 35],\n",
    "    'city': ['New York', 'Los Angeles', 'Chicago']\n",
    "}\n",
    "df = pd.DataFrame(sample_data)\n",
    "sample_file_path = 'sample.csv'\n",
    "df.to_csv(sample_file_path, index=False)\n",
    "\n",
    "# Read the file using the function\n",
    "try:\n",
    "    result_df = read_file(sample_file_path)\n",
    "    print(result_df)\n",
    "except Exception as e:\n",
    "    print(f\"Error: {e}\")"
   ],
   "id": "5f95e4139b337a23",
   "outputs": [
    {
     "name": "stdout",
     "output_type": "stream",
     "text": [
      "   id     name  age\n",
      "0   1    Alice   25\n",
      "1   2      Bob   30\n",
      "2   3  Charlie   35\n"
     ]
    }
   ],
   "execution_count": 3
  },
  {
   "metadata": {
    "ExecuteTime": {
     "end_time": "2025-05-07T00:11:33.508221Z",
     "start_time": "2025-05-07T00:11:33.504581Z"
    }
   },
   "cell_type": "code",
   "source": [
    "# Clean up the sample file after testing\n",
    "os.remove(sample_file_path)"
   ],
   "id": "d460016c6fd5188",
   "outputs": [],
   "execution_count": 4
  },
  {
   "metadata": {},
   "cell_type": "markdown",
   "source": [
    "<div style=\"text-align: center; font-size: 24px;\">\n",
    "    <b>Filter Age Standardized\n",
    "    </b>\n",
    "</div>\n"
   ],
   "id": "24738c1bec899968"
  },
  {
   "metadata": {
    "ExecuteTime": {
     "end_time": "2025-05-07T03:54:51.016941Z",
     "start_time": "2025-05-07T03:54:50.508967Z"
    }
   },
   "cell_type": "code",
   "source": [
    "# Read data from GHD2021_Schizophrenia/Schiz/\n",
    "prevalance5_df = pd.DataFrame()\n",
    "file_path = \"./\"\n",
    "\n",
    "for x in range(1, 2):\n",
    "    #file_name = file_path + f\"IHME-GBD_2021_DATA-851501aa-{x}.csv\"\n",
    "    file_name = file_path + f\"IHME-GBD_2021_DATA-575f1e63-1.csv\"\n",
    "    if not os.path.isfile(file_name):\n",
    "        print(f\"File not found: {file_name}\")\n",
    "        continue\n",
    "\n",
    "    df = pd.read_csv(file_name)\n",
    "    print(f\"Reading file: {file_name}\")\n",
    "    print(f\"Columns: {df.columns}\")\n",
    "    print(f\"First few rows:\\n{df.head()}\")\n",
    "\n",
    "    # Swap the 'upper' and 'lower' column locations\n",
    "    columns = list(df.columns)\n",
    "    upper_index = columns.index('upper')\n",
    "    lower_index = columns.index('lower')\n",
    "\n",
    "    # Swap the positions\n",
    "    columns[upper_index], columns[lower_index] = columns[lower_index], columns[upper_index]\n",
    "\n",
    "    # Reorder the DataFrame\n",
    "    df = df[columns]\n",
    "\n",
    "    columns_to_format = ['val', 'upper', 'lower']\n",
    "    df[columns_to_format] = df[columns_to_format].map(lambda x: f\"{x:.2f}\")\n",
    "\n",
    "    filtered_df = df[((df['measure_id'] == 2) | (df['measure_id'] >= 5))\n",
    "                     & (((df['age_id'] == 27) & (df['metric_id'] == 3)) | ((df['age_id'] == 22) & (df['metric_id'] == 1)))\n",
    "                     & ((df['year'] == 1990) | (df['year'] == 2021))\n",
    "                     & (df['sex_id']==3)]\n",
    "    print(f\"Filtered Prevalance rows: {filtered_df.shape[0]}\")\n",
    "    if not filtered_df.empty:\n",
    "        prevalance5_df = pd.concat([prevalance5_df, filtered_df], ignore_index=True)\n",
    "\n",
    "\n",
    "if prevalance5_df.empty:\n",
    "    print(\"No data matched the filtering condition. The resulting DataFrame is empty.\")\n",
    "else:\n",
    "    prevalance5_df.to_csv(\"new_data/comparison_1990_2021.csv\", index=False)\n",
    "    print(\"Prevalence.csv has been created successfully.\")"
   ],
   "id": "dcc2e469d158849f",
   "outputs": [
    {
     "name": "stdout",
     "output_type": "stream",
     "text": [
      "Reading file: ./IHME-GBD_2021_DATA-575f1e63-1.csv\n",
      "Columns: Index(['measure_id', 'measure_name', 'location_id', 'location_name', 'sex_id',\n",
      "       'sex_name', 'age_id', 'age_name', 'cause_id', 'cause_name', 'metric_id',\n",
      "       'metric_name', 'year', 'val', 'upper', 'lower'],\n",
      "      dtype='object')\n",
      "First few rows:\n",
      "   measure_id                            measure_name  location_id  \\\n",
      "0           2  DALYs (Disability-Adjusted Life Years)            1   \n",
      "1           2  DALYs (Disability-Adjusted Life Years)            1   \n",
      "2           2  DALYs (Disability-Adjusted Life Years)            1   \n",
      "3           2  DALYs (Disability-Adjusted Life Years)            1   \n",
      "4           2  DALYs (Disability-Adjusted Life Years)            1   \n",
      "\n",
      "  location_name  sex_id sex_name  age_id  age_name  cause_id     cause_name  \\\n",
      "0        Global       1     Male       1  <5 years       559  Schizophrenia   \n",
      "1        Global       2   Female       1  <5 years       559  Schizophrenia   \n",
      "2        Global       3     Both       1  <5 years       559  Schizophrenia   \n",
      "3        Global       1     Male       1  <5 years       559  Schizophrenia   \n",
      "4        Global       2   Female       1  <5 years       559  Schizophrenia   \n",
      "\n",
      "   metric_id metric_name  year  val  upper  lower  \n",
      "0          1      Number  1990  0.0    0.0    0.0  \n",
      "1          1      Number  1990  0.0    0.0    0.0  \n",
      "2          1      Number  1990  0.0    0.0    0.0  \n",
      "3          2     Percent  1990  0.0    0.0    0.0  \n",
      "4          2     Percent  1990  0.0    0.0    0.0  \n",
      "Filtered Prevalance rows: 72\n",
      "Prevalence.csv has been created successfully.\n"
     ]
    }
   ],
   "execution_count": 7
  },
  {
   "metadata": {
    "ExecuteTime": {
     "end_time": "2025-05-07T02:12:46.978791Z",
     "start_time": "2025-05-07T02:12:46.640820Z"
    }
   },
   "cell_type": "code",
   "source": [
    "# Read data from GHD2021_Schizophrenia/Schiz/\n",
    "prevalance5_df = pd.DataFrame()\n",
    "file_path = \"./\"\n",
    "for x in range(1, 2):\n",
    "    #file_name = file_path + f\"IHME-GBD_2021_DATA-851501aa-{x}.csv\"\n",
    "    file_name = file_path + f\"IHME-GBD_2021_DATA-575f1e63-1.csv\"\n",
    "    if not os.path.isfile(file_name):\n",
    "        print(f\"File not found: {file_name}\")\n",
    "        continue\n",
    "\n",
    "    df = pd.read_csv(file_name)\n",
    "    print(f\"Reading file: {file_name}\")\n",
    "    print(f\"Columns: {df.columns}\")\n",
    "    print(f\"First few rows:\\n{df.head()}\")\n",
    "\n",
    "    filtered_df = df[(df['measure_id'] == 5) & (df['age_id'] == 27) & (df['sex_id'] == 3) & (df['metric_id'] == 3)]\n",
    "    print(f\"Filtered Prevalance rows: {filtered_df.shape[0]}\")\n",
    "\n",
    "    if not filtered_df.empty:\n",
    "        prevalance5_df = pd.concat([prevalance5_df, filtered_df], ignore_index=True)\n",
    "\n",
    "\n",
    "if prevalance5_df.empty:\n",
    "    print(\"No data matched the filtering condition. The resulting DataFrame is empty.\")\n",
    "else:\n",
    "    prevalance5_df.to_csv(\"new_data/age_std_Prevalence_test.csv\", index=False)\n",
    "    print(\"Prevalence.csv has been created successfully.\")"
   ],
   "id": "d247f7b3d7e76",
   "outputs": [
    {
     "name": "stdout",
     "output_type": "stream",
     "text": [
      "Reading file: ./IHME-GBD_2021_DATA-575f1e63-1.csv\n",
      "Columns: Index(['measure_id', 'measure_name', 'location_id', 'location_name', 'sex_id',\n",
      "       'sex_name', 'age_id', 'age_name', 'cause_id', 'cause_name', 'metric_id',\n",
      "       'metric_name', 'year', 'val', 'upper', 'lower'],\n",
      "      dtype='object')\n",
      "First few rows:\n",
      "   measure_id                            measure_name  location_id  \\\n",
      "0           2  DALYs (Disability-Adjusted Life Years)            1   \n",
      "1           2  DALYs (Disability-Adjusted Life Years)            1   \n",
      "2           2  DALYs (Disability-Adjusted Life Years)            1   \n",
      "3           2  DALYs (Disability-Adjusted Life Years)            1   \n",
      "4           2  DALYs (Disability-Adjusted Life Years)            1   \n",
      "\n",
      "  location_name  sex_id sex_name  age_id  age_name  cause_id     cause_name  \\\n",
      "0        Global       1     Male       1  <5 years       559  Schizophrenia   \n",
      "1        Global       2   Female       1  <5 years       559  Schizophrenia   \n",
      "2        Global       3     Both       1  <5 years       559  Schizophrenia   \n",
      "3        Global       1     Male       1  <5 years       559  Schizophrenia   \n",
      "4        Global       2   Female       1  <5 years       559  Schizophrenia   \n",
      "\n",
      "   metric_id metric_name  year  val  upper  lower  \n",
      "0          1      Number  1990  0.0    0.0    0.0  \n",
      "1          1      Number  1990  0.0    0.0    0.0  \n",
      "2          1      Number  1990  0.0    0.0    0.0  \n",
      "3          2     Percent  1990  0.0    0.0    0.0  \n",
      "4          2     Percent  1990  0.0    0.0    0.0  \n",
      "Filtered Prevalance rows: 192\n",
      "Prevalence.csv has been created successfully.\n"
     ]
    }
   ],
   "execution_count": 6
  },
  {
   "metadata": {},
   "cell_type": "markdown",
   "source": "Filter for comparison 1990 2021",
   "id": "e0fe6c2cdebf6bb1"
  },
  {
   "metadata": {},
   "cell_type": "code",
   "outputs": [],
   "execution_count": null,
   "source": [
    "# Read data from GHD2021_Schizophrenia/Schiz/\n",
    "prevalance5_df = pd.DataFrame()\n",
    "file_path = \"./\"\n",
    "for x in range(1, 2):\n",
    "    #file_name = file_path + f\"IHME-GBD_2021_DATA-851501aa-{x}.csv\"\n",
    "    file_name = file_path + f\"IHME-GBD_2021_DATA-575f1e63-1.csv\"\n",
    "    if not os.path.isfile(file_name):\n",
    "        print(f\"File not found: {file_name}\")\n",
    "        continue\n",
    "\n",
    "    df = pd.read_csv(file_name)\n",
    "    print(f\"Reading file: {file_name}\")\n",
    "    print(f\"Columns: {df.columns}\")\n",
    "    print(f\"First few rows:\\n{df.head()}\")\n",
    "\n",
    "    filtered_df = df[(df['measure_id'] == 5) & (df['age_id'] == 27)]\n",
    "    print(f\"Filtered Prevalance rows: {filtered_df.shape[0]}\")\n",
    "\n",
    "    if not filtered_df.empty:\n",
    "        prevalance5_df = pd.concat([prevalance5_df, filtered_df], ignore_index=True)\n",
    "\n",
    "\n",
    "if prevalance5_df.empty:\n",
    "    print(\"No data matched the filtering condition. The resulting DataFrame is empty.\")\n",
    "else:\n",
    "    prevalance5_df.to_csv(\"new_data/age_std_Prevalence.csv\", index=False)\n",
    "    print(\"Prevalence.csv has been created successfully.\")"
   ],
   "id": "40e64f61cd49bb07"
  }
 ],
 "metadata": {
  "kernelspec": {
   "display_name": "Python 3",
   "language": "python",
   "name": "python3"
  },
  "language_info": {
   "codemirror_mode": {
    "name": "ipython",
    "version": 2
   },
   "file_extension": ".py",
   "mimetype": "text/x-python",
   "name": "python",
   "nbconvert_exporter": "python",
   "pygments_lexer": "ipython2",
   "version": "2.7.6"
  }
 },
 "nbformat": 4,
 "nbformat_minor": 5
}
